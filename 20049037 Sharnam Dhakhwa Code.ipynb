{
 "cells": [
  {
   "cell_type": "markdown",
   "id": "4d81247d",
   "metadata": {},
   "source": [
    "# Sentiment Analysis using LSTM, ML and NLP"
   ]
  },
  {
   "cell_type": "markdown",
   "id": "82b9de8a",
   "metadata": {},
   "source": [
    "# Importing necessary libraries"
   ]
  },
  {
   "cell_type": "code",
   "execution_count": 1,
   "id": "d3872eff",
   "metadata": {},
   "outputs": [],
   "source": [
    "import pandas as pd\n",
    "from tensorflow.keras.preprocessing.text import Tokenizer\n",
    "from tensorflow.keras.preprocessing.sequence import pad_sequences\n",
    "from tensorflow.keras.models import Sequential\n",
    "from tensorflow.keras.layers import LSTM,Dense, Dropout, SpatialDropout1D\n",
    "from tensorflow.keras.layers import Embedding\n",
    "import matplotlib.pyplot as plt\n",
    "from sklearn.model_selection import train_test_split\n",
    "from sklearn.metrics import precision_recall_fscore_support, confusion_matrix, classification_report,plot_confusion_matrix\n",
    "import seaborn as sns"
   ]
  },
  {
   "cell_type": "markdown",
   "id": "f354abd7",
   "metadata": {},
   "source": [
    "# Dataset Cleaning"
   ]
  },
  {
   "cell_type": "code",
   "execution_count": 2,
   "id": "d2fa9b48",
   "metadata": {},
   "outputs": [
    {
     "data": {
      "text/plain": [
       "Index(['tweet_id', 'airline_sentiment', 'airline_sentiment_confidence',\n",
       "       'negativereason', 'negativereason_confidence', 'airline',\n",
       "       'airline_sentiment_gold', 'name', 'negativereason_gold',\n",
       "       'retweet_count', 'text', 'tweet_coord', 'tweet_created',\n",
       "       'tweet_location', 'user_timezone'],\n",
       "      dtype='object')"
      ]
     },
     "execution_count": 2,
     "metadata": {},
     "output_type": "execute_result"
    }
   ],
   "source": [
    "data_path=\"./Tweets.csv\"\n",
    "df = pd.read_csv(data_path) # Reading csv file\n",
    "# Checking all columns of dataset\n",
    "df.columns"
   ]
  },
  {
   "cell_type": "code",
   "execution_count": 3,
   "id": "dd5ea861",
   "metadata": {},
   "outputs": [
    {
     "name": "stdout",
     "output_type": "stream",
     "text": [
      "(14640, 2)\n"
     ]
    },
    {
     "data": {
      "text/html": [
       "<div>\n",
       "<style scoped>\n",
       "    .dataframe tbody tr th:only-of-type {\n",
       "        vertical-align: middle;\n",
       "    }\n",
       "\n",
       "    .dataframe tbody tr th {\n",
       "        vertical-align: top;\n",
       "    }\n",
       "\n",
       "    .dataframe thead th {\n",
       "        text-align: right;\n",
       "    }\n",
       "</style>\n",
       "<table border=\"1\" class=\"dataframe\">\n",
       "  <thead>\n",
       "    <tr style=\"text-align: right;\">\n",
       "      <th></th>\n",
       "      <th>text</th>\n",
       "      <th>airline_sentiment</th>\n",
       "    </tr>\n",
       "  </thead>\n",
       "  <tbody>\n",
       "    <tr>\n",
       "      <th>0</th>\n",
       "      <td>@VirginAmerica What @dhepburn said.</td>\n",
       "      <td>neutral</td>\n",
       "    </tr>\n",
       "    <tr>\n",
       "      <th>1</th>\n",
       "      <td>@VirginAmerica plus you've added commercials t...</td>\n",
       "      <td>positive</td>\n",
       "    </tr>\n",
       "    <tr>\n",
       "      <th>2</th>\n",
       "      <td>@VirginAmerica I didn't today... Must mean I n...</td>\n",
       "      <td>neutral</td>\n",
       "    </tr>\n",
       "    <tr>\n",
       "      <th>3</th>\n",
       "      <td>@VirginAmerica it's really aggressive to blast...</td>\n",
       "      <td>negative</td>\n",
       "    </tr>\n",
       "    <tr>\n",
       "      <th>4</th>\n",
       "      <td>@VirginAmerica and it's a really big bad thing...</td>\n",
       "      <td>negative</td>\n",
       "    </tr>\n",
       "  </tbody>\n",
       "</table>\n",
       "</div>"
      ],
      "text/plain": [
       "                                                text airline_sentiment\n",
       "0                @VirginAmerica What @dhepburn said.           neutral\n",
       "1  @VirginAmerica plus you've added commercials t...          positive\n",
       "2  @VirginAmerica I didn't today... Must mean I n...           neutral\n",
       "3  @VirginAmerica it's really aggressive to blast...          negative\n",
       "4  @VirginAmerica and it's a really big bad thing...          negative"
      ]
     },
     "execution_count": 3,
     "metadata": {},
     "output_type": "execute_result"
    }
   ],
   "source": [
    "# Extracting 2 columns \"text\" & \"airline_sentiment\"\n",
    "reviews_df = df[['text','airline_sentiment']]\n",
    "print(reviews_df.shape)\n",
    "reviews_df.head(5)"
   ]
  },
  {
   "cell_type": "code",
   "execution_count": 4,
   "id": "c325cdfa",
   "metadata": {},
   "outputs": [
    {
     "name": "stdout",
     "output_type": "stream",
     "text": [
      "(11541, 2)\n"
     ]
    },
    {
     "data": {
      "text/html": [
       "<div>\n",
       "<style scoped>\n",
       "    .dataframe tbody tr th:only-of-type {\n",
       "        vertical-align: middle;\n",
       "    }\n",
       "\n",
       "    .dataframe tbody tr th {\n",
       "        vertical-align: top;\n",
       "    }\n",
       "\n",
       "    .dataframe thead th {\n",
       "        text-align: right;\n",
       "    }\n",
       "</style>\n",
       "<table border=\"1\" class=\"dataframe\">\n",
       "  <thead>\n",
       "    <tr style=\"text-align: right;\">\n",
       "      <th></th>\n",
       "      <th>text</th>\n",
       "      <th>airline_sentiment</th>\n",
       "    </tr>\n",
       "  </thead>\n",
       "  <tbody>\n",
       "    <tr>\n",
       "      <th>1</th>\n",
       "      <td>@VirginAmerica plus you've added commercials t...</td>\n",
       "      <td>positive</td>\n",
       "    </tr>\n",
       "    <tr>\n",
       "      <th>3</th>\n",
       "      <td>@VirginAmerica it's really aggressive to blast...</td>\n",
       "      <td>negative</td>\n",
       "    </tr>\n",
       "    <tr>\n",
       "      <th>4</th>\n",
       "      <td>@VirginAmerica and it's a really big bad thing...</td>\n",
       "      <td>negative</td>\n",
       "    </tr>\n",
       "    <tr>\n",
       "      <th>5</th>\n",
       "      <td>@VirginAmerica seriously would pay $30 a fligh...</td>\n",
       "      <td>negative</td>\n",
       "    </tr>\n",
       "    <tr>\n",
       "      <th>6</th>\n",
       "      <td>@VirginAmerica yes, nearly every time I fly VX...</td>\n",
       "      <td>positive</td>\n",
       "    </tr>\n",
       "  </tbody>\n",
       "</table>\n",
       "</div>"
      ],
      "text/plain": [
       "                                                text airline_sentiment\n",
       "1  @VirginAmerica plus you've added commercials t...          positive\n",
       "3  @VirginAmerica it's really aggressive to blast...          negative\n",
       "4  @VirginAmerica and it's a really big bad thing...          negative\n",
       "5  @VirginAmerica seriously would pay $30 a fligh...          negative\n",
       "6  @VirginAmerica yes, nearly every time I fly VX...          positive"
      ]
     },
     "execution_count": 4,
     "metadata": {},
     "output_type": "execute_result"
    }
   ],
   "source": [
    "# Removing any neutral sentiments\n",
    "reviews_df = reviews_df[reviews_df['airline_sentiment'] != 'neutral']\n",
    "\n",
    "print(reviews_df.shape)\n",
    "reviews_df.head(5)"
   ]
  },
  {
   "cell_type": "code",
   "execution_count": 5,
   "id": "a3862d79",
   "metadata": {},
   "outputs": [
    {
     "data": {
      "text/plain": [
       "negative    9178\n",
       "positive    2363\n",
       "Name: airline_sentiment, dtype: int64"
      ]
     },
     "execution_count": 5,
     "metadata": {},
     "output_type": "execute_result"
    }
   ],
   "source": [
    "# Checking total positive and negative sentiment count\n",
    "reviews_df[\"airline_sentiment\"].value_counts()"
   ]
  },
  {
   "cell_type": "markdown",
   "id": "96ca7236",
   "metadata": {},
   "source": [
    "# Dataset Preprocessing"
   ]
  },
  {
   "cell_type": "code",
   "execution_count": 6,
   "id": "6a0e267e",
   "metadata": {},
   "outputs": [
    {
     "data": {
      "text/plain": [
       "(array([0, 1, 1, ..., 0, 1, 1], dtype=int64),\n",
       " Index(['positive', 'negative'], dtype='object'))"
      ]
     },
     "execution_count": 6,
     "metadata": {},
     "output_type": "execute_result"
    }
   ],
   "source": [
    "# Encode the 'airline_sentiment' column as integers\n",
    "sentiment_encoding = reviews_df.airline_sentiment.factorize()\n",
    "\n",
    "sentiment_encoding"
   ]
  },
  {
   "cell_type": "code",
   "execution_count": 7,
   "id": "0073f85a",
   "metadata": {},
   "outputs": [],
   "source": [
    "# Extracting text data from text column and assigning to tweet variable\n",
    "tweet = reviews_df.text.values\n",
    "\n",
    "# Create a Tokenizer object with a vocabulary size of 5000\n",
    "tokenizer = Tokenizer(num_words=5000)\n",
    "\n",
    "# Fit the tokenizer on the tweet data.\n",
    "tokenizer.fit_on_texts(tweet)\n",
    "\n",
    "# Encode the tweet data using the fitted tokenizer\n",
    "encoded_tweets = tokenizer.texts_to_sequences(tweet)\n",
    "\n",
    "# Use padding to pad the sentences to have equal length\n",
    "padded_sequence = pad_sequences(encoded_tweets, maxlen=200)"
   ]
  },
  {
   "cell_type": "markdown",
   "id": "686fc04c",
   "metadata": {},
   "source": [
    "# Build Text Classifier using LSTM Model"
   ]
  },
  {
   "cell_type": "code",
   "execution_count": 8,
   "id": "7c752461",
   "metadata": {},
   "outputs": [
    {
     "name": "stdout",
     "output_type": "stream",
     "text": [
      "Model: \"sequential\"\n",
      "_________________________________________________________________\n",
      " Layer (type)                Output Shape              Param #   \n",
      "=================================================================\n",
      " embedding (Embedding)       (None, 200, 32)           423488    \n",
      "                                                                 \n",
      " spatial_dropout1d (SpatialD  (None, 200, 32)          0         \n",
      " ropout1D)                                                       \n",
      "                                                                 \n",
      " lstm (LSTM)                 (None, 50)                16600     \n",
      "                                                                 \n",
      " dropout (Dropout)           (None, 50)                0         \n",
      "                                                                 \n",
      " dense (Dense)               (None, 1)                 51        \n",
      "                                                                 \n",
      "=================================================================\n",
      "Total params: 440,139\n",
      "Trainable params: 440,139\n",
      "Non-trainable params: 0\n",
      "_________________________________________________________________\n",
      "None\n"
     ]
    }
   ],
   "source": [
    "# Calculate the vocabulary size by adding 1 to the length of the word index\n",
    "vocab_size = len(tokenizer.word_index) + 1\n",
    "\n",
    "# Set the length of the embedding vector to 32\n",
    "embedding_vector_length = 32\n",
    "\n",
    "# Create a Sequential model.\n",
    "model = Sequential()\n",
    "model.add(Embedding(vocab_size, embedding_vector_length, input_length=200))\n",
    "model.add(SpatialDropout1D(0.25))\n",
    "model.add(LSTM(50, dropout=0.5, recurrent_dropout=0.5))\n",
    "model.add(Dropout(0.2))\n",
    "model.add(Dense(1, activation='sigmoid'))\n",
    "\n",
    "# Compile the model with binary crossentropy loss and Adam optimization, and track accuracy\n",
    "model.compile(loss='binary_crossentropy',optimizer='adam', metrics=['accuracy'])\n",
    "\n",
    "# Print a summary of the model\n",
    "print(model.summary())"
   ]
  },
  {
   "cell_type": "markdown",
   "id": "4dc3a0de",
   "metadata": {},
   "source": [
    "# Train test split model training"
   ]
  },
  {
   "cell_type": "code",
   "execution_count": 9,
   "id": "3ac643de",
   "metadata": {},
   "outputs": [
    {
     "name": "stdout",
     "output_type": "stream",
     "text": [
      "Epoch 1/5\n",
      "289/289 [==============================] - 35s 109ms/step - loss: 0.3786 - accuracy: 0.8473 - val_loss: 0.2593 - val_accuracy: 0.8917\n",
      "Epoch 2/5\n",
      "289/289 [==============================] - 32s 109ms/step - loss: 0.2100 - accuracy: 0.9196 - val_loss: 0.2097 - val_accuracy: 0.9177\n",
      "Epoch 3/5\n",
      "289/289 [==============================] - 31s 108ms/step - loss: 0.1539 - accuracy: 0.9420 - val_loss: 0.2025 - val_accuracy: 0.9255\n",
      "Epoch 4/5\n",
      "289/289 [==============================] - 31s 109ms/step - loss: 0.1290 - accuracy: 0.9520 - val_loss: 0.2146 - val_accuracy: 0.9264\n",
      "Epoch 5/5\n",
      "289/289 [==============================] - 32s 111ms/step - loss: 0.1115 - accuracy: 0.9596 - val_loss: 0.2068 - val_accuracy: 0.9307\n"
     ]
    }
   ],
   "source": [
    "# Split the data and labels into training and validation sets\n",
    "X_train, X_val, y_train, y_val = train_test_split(padded_sequence, sentiment_encoding[0], test_size=0.2)\n",
    "\n",
    "# Train the model on the training set\n",
    "history = model.fit(X_train, y_train, validation_data=(X_val, y_val), epochs=5, batch_size=32)"
   ]
  },
  {
   "cell_type": "markdown",
   "id": "90f83d5d",
   "metadata": {},
   "source": [
    "# Performance metrics"
   ]
  },
  {
   "cell_type": "code",
   "execution_count": 10,
   "id": "30d9a08b",
   "metadata": {},
   "outputs": [
    {
     "name": "stdout",
     "output_type": "stream",
     "text": [
      "73/73 [==============================] - 2s 18ms/step\n",
      "Classification report:\n",
      "              precision    recall  f1-score   support\n",
      "\n",
      "           0       0.89      0.76      0.82       476\n",
      "           1       0.94      0.97      0.96      1833\n",
      "\n",
      "    accuracy                           0.93      2309\n",
      "   macro avg       0.91      0.87      0.89      2309\n",
      "weighted avg       0.93      0.93      0.93      2309\n",
      "\n"
     ]
    }
   ],
   "source": [
    "# Obtain the predictions for the validation set\n",
    "predictions = model.predict(X_val)\n",
    "\n",
    "# Convert the predictions to class labels (0 or 1)\n",
    "predictions = (predictions > 0.5).astype(int)\n",
    "\n",
    "\n",
    "# Generate a classification report\n",
    "report = classification_report(y_val, predictions)\n",
    "print(\"Classification report:\")\n",
    "print(report)"
   ]
  },
  {
   "cell_type": "markdown",
   "id": "b6e08959",
   "metadata": {},
   "source": [
    "#  Confusion Matrix"
   ]
  },
  {
   "cell_type": "code",
   "execution_count": 11,
   "id": "072513ad",
   "metadata": {},
   "outputs": [
    {
     "data": {
      "image/png": "[encoded data removed]",
      "text/plain": [
       "<Figure size 432x288 with 2 Axes>"
      ]
     },
     "metadata": {
      "needs_background": "light"
     },
     "output_type": "display_data"
    }
   ],
   "source": [
    "# Visualizing confusion matrix\n",
    "confusion_matrix = confusion_matrix(y_val, predictions)\n",
    "\n",
    "sns.heatmap(confusion_matrix, annot=True, fmt='d')\n",
    "plt.xlabel('Predicted label')\n",
    "plt.ylabel('True label')\n",
    "plt.title('Confusion matrix')\n",
    "plt.show()"
   ]
  },
  {
   "cell_type": "markdown",
   "id": "ae43a42f",
   "metadata": {},
   "source": [
    "# Learning Curve "
   ]
  },
  {
   "cell_type": "code",
   "execution_count": 12,
   "id": "a4ac16e4",
   "metadata": {},
   "outputs": [
    {
     "data": {
      "image/png": "[encoded data removed]",
      "text/plain": [
       "<Figure size 432x288 with 1 Axes>"
      ]
     },
     "metadata": {
      "needs_background": "light"
     },
     "output_type": "display_data"
    },
    {
     "data": {
      "text/plain": [
       "<Figure size 432x288 with 0 Axes>"
      ]
     },
     "metadata": {},
     "output_type": "display_data"
    }
   ],
   "source": [
    "# Plot the training and validation accuracy over the training epochs\n",
    "plt.plot(history.history['accuracy'], label='acc')\n",
    "plt.plot(history.history['val_accuracy'], label='val_acc')\n",
    "\n",
    "# Adding legend to the plot\n",
    "plt.legend()\n",
    "\n",
    "# Displaying plot\n",
    "plt.show()\n",
    "\n",
    "# Save the plot as an image file\n",
    "plt.savefig(\"Accuracy plot.jpg\")"
   ]
  },
  {
   "cell_type": "code",
   "execution_count": 13,
   "id": "1b4ca5bd",
   "metadata": {},
   "outputs": [
    {
     "data": {
      "image/png": "[encoded data removed]",
      "text/plain": [
       "<Figure size 432x288 with 1 Axes>"
      ]
     },
     "metadata": {
      "needs_background": "light"
     },
     "output_type": "display_data"
    },
    {
     "data": {
      "text/plain": [
       "<Figure size 432x288 with 0 Axes>"
      ]
     },
     "metadata": {},
     "output_type": "display_data"
    }
   ],
   "source": [
    "# Plot the training and validation loss over the training epochs\n",
    "plt.plot(history.history['loss'], label='loss')\n",
    "plt.plot(history.history['val_loss'], label='val_loss')\n",
    "\n",
    "# Adding legend to the plot\n",
    "plt.legend()\n",
    "\n",
    "# Displying plot\n",
    "plt.show()\n",
    "\n",
    "# Save the plot as an image file\n",
    "plt.savefig(\"Loss plt.jpg\")"
   ]
  },
  {
   "cell_type": "markdown",
   "id": "0c866d44",
   "metadata": {},
   "source": [
    "# Analaysis output"
   ]
  },
  {
   "cell_type": "code",
   "execution_count": 14,
   "id": "88fb751a",
   "metadata": {},
   "outputs": [
    {
     "name": "stdout",
     "output_type": "stream",
     "text": [
      "Enter a text to analyze (or 'q' to quit): The flight was very pleasant.\n",
      "1/1 [==============================] - 0s 28ms/step\n",
      "Predicted label:  positive\n",
      "Enter a text to analyze (or 'q' to quit): The flight was unpleasant.\n",
      "1/1 [==============================] - 0s 26ms/step\n",
      "Predicted label:  negative\n",
      "Enter a text to analyze (or 'q' to quit): The flight did have some bad turbulence but the overall experience was very good\n",
      "1/1 [==============================] - 0s 28ms/step\n",
      "Predicted label:  negative\n",
      "Enter a text to analyze (or 'q' to quit): The product works well\n",
      "1/1 [==============================] - 0s 27ms/step\n",
      "Predicted label:  positive\n",
      "Enter a text to analyze (or 'q' to quit): She was a lifesaver, she helped me a lot\n",
      "1/1 [==============================] - 0s 27ms/step\n",
      "Predicted label:  positive\n",
      "Enter a text to analyze (or 'q' to quit): The product was not as expected\n",
      "1/1 [==============================] - 0s 28ms/step\n",
      "Predicted label:  negative\n",
      "Enter a text to analyze (or 'q' to quit): q\n"
     ]
    }
   ],
   "source": [
    "# Function for performing sentiment analysis on a given piece of text\n",
    "def sentiment_analysis(text):\n",
    "    # Encode the text into a sequence of integers using the tokenizer\n",
    "    tw = tokenizer.texts_to_sequences([text])\n",
    "    \n",
    "    # Padding the encoded sequence to a fixed length\n",
    "    tw = pad_sequences(tw,maxlen=200)\n",
    "    \n",
    "    # Using the model to make a prediction on the padded sequence\n",
    "    prediction = int(model.predict(tw).round().item())\n",
    "    \n",
    "    # Print the predicted label using the encoded sentiment labels\n",
    "    print(\"Predicted label: \", sentiment_encoding[1][prediction])\n",
    "\n",
    "# Continuously prompt the user to enter a text to analyze\n",
    "while True:\n",
    "    text = input(\"Enter a text to analyze (or 'q' to quit): \")\n",
    "    \n",
    "    # If the user enters 'q', break out of the loop\n",
    "    if text == 'q':\n",
    "        break\n",
    "    \n",
    "    # Otherwise, call the sentiment_analysis function on the entered text\n",
    "    sentiment_analysis(text)"
   ]
  },
  {
   "cell_type": "markdown",
   "id": "e367951d",
   "metadata": {},
   "source": [
    "# Bar chart and Pie chart"
   ]
  },
  {
   "cell_type": "code",
   "execution_count": 34,
   "id": "5575ccc5",
   "metadata": {},
   "outputs": [
    {
     "name": "stdout",
     "output_type": "stream",
     "text": [
      "361/361 [==============================] - 6s 17ms/step\n"
     ]
    }
   ],
   "source": [
    "check_data=\"./Tweets.csv\"\n",
    "airline_df = pd.read_csv(check_data) # Reading csv file\n",
    "airline_df = airline_df[airline_df['airline_sentiment'] != 'neutral']\n",
    "sentence_column=airline_df.columns[10]\n",
    "# Extracting text data from text column and assigning to tweet variable\n",
    "new_tweet = airline_df[sentence_column].values\n",
    "\n",
    "# Create a Tokenizer object with a vocabulary size of 5000\n",
    "tokenizer = Tokenizer(num_words=5000)\n",
    "\n",
    "# Fit the tokenizer on the tweet data.\n",
    "tokenizer.fit_on_texts(new_tweet)\n",
    "\n",
    "# Encode the tweet data using the fitted tokenizer\n",
    "encoded_tweets = tokenizer.texts_to_sequences(new_tweet)\n",
    "\n",
    "# Use padding to pad the sentences to have equal length\n",
    "padded_sequence = pad_sequences(encoded_tweets, maxlen=200)\n",
    "predictions = model.predict(padded_sequence).round()\n",
    "prediction_list = predictions.tolist()\n"
   ]
  },
  {
   "cell_type": "code",
   "execution_count": 35,
   "id": "92c1608e",
   "metadata": {},
   "outputs": [
    {
     "data": {
      "image/png": "[encoded data removed]",
      "text/plain": [
       "<Figure size 432x288 with 1 Axes>"
      ]
     },
     "metadata": {
      "needs_background": "light"
     },
     "output_type": "display_data"
    }
   ],
   "source": [
    "#create a dataframe for the predictions\n",
    "df_predictions = pd.DataFrame(prediction_list, columns=['sentiment'])\n",
    "#create a countplot for the sentiment column in the dataframe\n",
    "sns.countplot(x='sentiment', data=df_predictions)\n",
    "#add x and y labels and title for the chart\n",
    "plt.xlabel(\"Sentiment\")\n",
    "plt.ylabel(\"Number of Tweets\")\n",
    "plt.title(\"Sentiment Analysis of Tweets\")\n",
    "#show the chart\n",
    "plt.show()"
   ]
  },
  {
   "cell_type": "code",
   "execution_count": 36,
   "id": "3a22ffe5",
   "metadata": {},
   "outputs": [
    {
     "data": {
      "image/png": "[encoded data removed]",
      "text/plain": [
       "<Figure size 432x288 with 1 Axes>"
      ]
     },
     "metadata": {},
     "output_type": "display_data"
    }
   ],
   "source": [
    "#count the number of occurrences of each sentiment label in the dataframe\n",
    "sentiment_counts = df_predictions['sentiment'].value_counts()\n",
    "\n",
    "# create the labels for the pie chart\n",
    "labels = ['positive', 'negative']\n",
    "#create the size of each section based on the sentiment counts\n",
    "sizes = [sentiment_counts[0], sentiment_counts[1]]\n",
    "\n",
    "# create the pie chart\n",
    "plt.pie(sizes, labels=labels, autopct='%1.1f%%')\n",
    "# make the pie chart circular\n",
    "plt.axis('equal')\n",
    "# add a title to the chart\n",
    "plt.title(\"Sentiment Analysis of Tweets\")\n",
    "# show the chart\n",
    "plt.show()"
   ]
  }
 ],
 "metadata": {
  "kernelspec": {
   "display_name": "Python 3 (ipykernel)",
   "language": "python",
   "name": "python3"
  },
  "language_info": {
   "codemirror_mode": {
    "name": "ipython",
    "version": 3
   },
   "file_extension": ".py",
   "mimetype": "text/x-python",
   "name": "python",
   "nbconvert_exporter": "python",
   "pygments_lexer": "ipython3",
   "version": "3.9.12"
  }
 },
 "nbformat": 4,
 "nbformat_minor": 5
}
